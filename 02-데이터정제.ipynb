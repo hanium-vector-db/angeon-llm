{
 "cells": [
  {
   "cell_type": "code",
   "execution_count": null,
   "id": "3f43dc8a",
   "metadata": {},
   "outputs": [],
   "source": [
    "from openai import OpenAI\n",
    "\n",
    "import pandas as pd\n",
    "import os\n",
    "from tqdm import tqdm\n",
    "import time"
   ]
  },
  {
   "cell_type": "code",
   "execution_count": 3,
   "id": "c43a5e93",
   "metadata": {},
   "outputs": [],
   "source": [
    "client = OpenAI(api_key=os.getenv(\"OPENAI_API_KEY\"))\n"
   ]
  },
  {
   "cell_type": "code",
   "execution_count": 4,
   "id": "d6bc5d01",
   "metadata": {},
   "outputs": [
    {
     "data": {
      "text/html": [
       "<div>\n",
       "<style scoped>\n",
       "    .dataframe tbody tr th:only-of-type {\n",
       "        vertical-align: middle;\n",
       "    }\n",
       "\n",
       "    .dataframe tbody tr th {\n",
       "        vertical-align: top;\n",
       "    }\n",
       "\n",
       "    .dataframe thead th {\n",
       "        text-align: right;\n",
       "    }\n",
       "</style>\n",
       "<table border=\"1\" class=\"dataframe\">\n",
       "  <thead>\n",
       "    <tr style=\"text-align: right;\">\n",
       "      <th></th>\n",
       "      <th>카테고리</th>\n",
       "      <th>상품명</th>\n",
       "      <th>판매가</th>\n",
       "      <th>정상가</th>\n",
       "      <th>할인율</th>\n",
       "    </tr>\n",
       "  </thead>\n",
       "  <tbody>\n",
       "    <tr>\n",
       "      <th>0</th>\n",
       "      <td>전체</td>\n",
       "      <td>파프리카 3입 (봉)</td>\n",
       "      <td>2,670</td>\n",
       "      <td>4,980</td>\n",
       "      <td>할인율\\r\\n46\\r\\n%</td>\n",
       "    </tr>\n",
       "    <tr>\n",
       "      <th>1</th>\n",
       "      <td>전체</td>\n",
       "      <td>햇양파 (1.8kg/망)</td>\n",
       "      <td>2,864</td>\n",
       "      <td>3,580</td>\n",
       "      <td>할인율\\r\\n20\\r\\n%</td>\n",
       "    </tr>\n",
       "    <tr>\n",
       "      <th>2</th>\n",
       "      <td>전체</td>\n",
       "      <td>반전참외 (15입내/봉)</td>\n",
       "      <td>8,800</td>\n",
       "      <td>11,000</td>\n",
       "      <td>할인율\\r\\n20\\r\\n%</td>\n",
       "    </tr>\n",
       "    <tr>\n",
       "      <th>3</th>\n",
       "      <td>전체</td>\n",
       "      <td>대추방울토마토 (1kg/팩)/하우스감귤 (800g/팩)</td>\n",
       "      <td>10,980/16,900\\r\\n8,784/13,520</td>\n",
       "      <td>NaN</td>\n",
       "      <td>NaN</td>\n",
       "    </tr>\n",
       "    <tr>\n",
       "      <th>4</th>\n",
       "      <td>전체</td>\n",
       "      <td>흙당근 (1kg/봉)/햇 세척인삼 (750g/팩)</td>\n",
       "      <td>3,180/37,480\\r\\n2,544/29,984</td>\n",
       "      <td>NaN</td>\n",
       "      <td>NaN</td>\n",
       "    </tr>\n",
       "  </tbody>\n",
       "</table>\n",
       "</div>"
      ],
      "text/plain": [
       "  카테고리                             상품명                            판매가     정상가  \\\n",
       "0   전체                     파프리카 3입 (봉)                          2,670   4,980   \n",
       "1   전체                   햇양파 (1.8kg/망)                          2,864   3,580   \n",
       "2   전체                   반전참외 (15입내/봉)                          8,800  11,000   \n",
       "3   전체  대추방울토마토 (1kg/팩)/하우스감귤 (800g/팩)  10,980/16,900\\r\\n8,784/13,520     NaN   \n",
       "4   전체     흙당근 (1kg/봉)/햇 세척인삼 (750g/팩)   3,180/37,480\\r\\n2,544/29,984     NaN   \n",
       "\n",
       "              할인율  \n",
       "0  할인율\\r\\n46\\r\\n%  \n",
       "1  할인율\\r\\n20\\r\\n%  \n",
       "2  할인율\\r\\n20\\r\\n%  \n",
       "3             NaN  \n",
       "4             NaN  "
      ]
     },
     "execution_count": 4,
     "metadata": {},
     "output_type": "execute_result"
    }
   ],
   "source": [
    "# 전단지 CSV 불러오기\n",
    "df = pd.read_csv(\"data/emart_flyer_fruits.csv\")\n",
    "df = df.dropna(subset=[\"상품명\"])  # 상품명이 없는 경우 제거\n",
    "df.head()\n"
   ]
  },
  {
   "cell_type": "code",
   "execution_count": 5,
   "id": "12efda53",
   "metadata": {},
   "outputs": [],
   "source": [
    "def is_fruit_gpt(product_name):\n",
    "    prompt = f\"'{product_name}'라는 상품은 과일인가요? 과일이면 '과일', 아니면 '과일 아님'만 출력해주세요.\"\n",
    "\n",
    "    try:\n",
    "        response = client.chat.completions.create(\n",
    "            model=\"gpt-3.5-turbo\",\n",
    "            messages=[{\"role\": \"user\", \"content\": prompt}],\n",
    "            temperature=0\n",
    "        )\n",
    "        return response.choices[0].message.content.strip()\n",
    "    except Exception as e:\n",
    "        print(f\"GPT 요청 오류: {e}\")\n",
    "        return \"오류\""
   ]
  },
  {
   "cell_type": "code",
   "execution_count": 6,
   "id": "7967058f",
   "metadata": {},
   "outputs": [
    {
     "name": "stderr",
     "output_type": "stream",
     "text": [
      "100%|██████████| 56/56 [01:14<00:00,  1.33s/it]\n"
     ]
    }
   ],
   "source": [
    "fruit_flags = []\n",
    "for name in tqdm(df[\"상품명\"]):\n",
    "    result = is_fruit_gpt(name)\n",
    "    fruit_flags.append(result)\n",
    "    time.sleep(0.7)  # OpenAI API 호출 속도 제한을 피하기 위한 대기 (필수)\n",
    "\n",
    "df[\"GPT판별\"] = fruit_flags\n",
    "df_fruits = df[df[\"GPT판별\"] == \"과일\"]"
   ]
  },
  {
   "cell_type": "code",
   "execution_count": 7,
   "id": "be97a7cc",
   "metadata": {},
   "outputs": [
    {
     "name": "stdout",
     "output_type": "stream",
     "text": [
      "✅ 과일 상품만 필터링 완료!\n"
     ]
    },
    {
     "data": {
      "text/html": [
       "<div>\n",
       "<style scoped>\n",
       "    .dataframe tbody tr th:only-of-type {\n",
       "        vertical-align: middle;\n",
       "    }\n",
       "\n",
       "    .dataframe tbody tr th {\n",
       "        vertical-align: top;\n",
       "    }\n",
       "\n",
       "    .dataframe thead th {\n",
       "        text-align: right;\n",
       "    }\n",
       "</style>\n",
       "<table border=\"1\" class=\"dataframe\">\n",
       "  <thead>\n",
       "    <tr style=\"text-align: right;\">\n",
       "      <th></th>\n",
       "      <th>카테고리</th>\n",
       "      <th>상품명</th>\n",
       "      <th>판매가</th>\n",
       "      <th>정상가</th>\n",
       "      <th>할인율</th>\n",
       "      <th>GPT판별</th>\n",
       "    </tr>\n",
       "  </thead>\n",
       "  <tbody>\n",
       "    <tr>\n",
       "      <th>2</th>\n",
       "      <td>전체</td>\n",
       "      <td>반전참외 (15입내/봉)</td>\n",
       "      <td>8,800</td>\n",
       "      <td>11,000</td>\n",
       "      <td>할인율\\r\\n20\\r\\n%</td>\n",
       "      <td>과일</td>\n",
       "    </tr>\n",
       "    <tr>\n",
       "      <th>3</th>\n",
       "      <td>전체</td>\n",
       "      <td>대추방울토마토 (1kg/팩)/하우스감귤 (800g/팩)</td>\n",
       "      <td>10,980/16,900\\r\\n8,784/13,520</td>\n",
       "      <td>NaN</td>\n",
       "      <td>NaN</td>\n",
       "      <td>과일</td>\n",
       "    </tr>\n",
       "    <tr>\n",
       "      <th>5</th>\n",
       "      <td>전체</td>\n",
       "      <td>제스프리 골드키위 점보 (10개)</td>\n",
       "      <td>12,800</td>\n",
       "      <td>NaN</td>\n",
       "      <td>NaN</td>\n",
       "      <td>과일</td>\n",
       "    </tr>\n",
       "    <tr>\n",
       "      <th>6</th>\n",
       "      <td>전체</td>\n",
       "      <td>친환경 생 블루베리 (200g/팩)</td>\n",
       "      <td>6,980</td>\n",
       "      <td>9,980</td>\n",
       "      <td>할인율\\r\\n30\\r\\n%</td>\n",
       "      <td>과일</td>\n",
       "    </tr>\n",
       "    <tr>\n",
       "      <th>7</th>\n",
       "      <td>전체</td>\n",
       "      <td>블랙 망고수박/까망 애플수박</td>\n",
       "      <td>NaN</td>\n",
       "      <td>NaN</td>\n",
       "      <td>NaN</td>\n",
       "      <td>과일</td>\n",
       "    </tr>\n",
       "  </tbody>\n",
       "</table>\n",
       "</div>"
      ],
      "text/plain": [
       "  카테고리                             상품명                            판매가     정상가  \\\n",
       "2   전체                   반전참외 (15입내/봉)                          8,800  11,000   \n",
       "3   전체  대추방울토마토 (1kg/팩)/하우스감귤 (800g/팩)  10,980/16,900\\r\\n8,784/13,520     NaN   \n",
       "5   전체              제스프리 골드키위 점보 (10개)                         12,800     NaN   \n",
       "6   전체             친환경 생 블루베리 (200g/팩)                          6,980   9,980   \n",
       "7   전체                 블랙 망고수박/까망 애플수박                            NaN     NaN   \n",
       "\n",
       "              할인율 GPT판별  \n",
       "2  할인율\\r\\n20\\r\\n%    과일  \n",
       "3             NaN    과일  \n",
       "5             NaN    과일  \n",
       "6  할인율\\r\\n30\\r\\n%    과일  \n",
       "7             NaN    과일  "
      ]
     },
     "execution_count": 7,
     "metadata": {},
     "output_type": "execute_result"
    }
   ],
   "source": [
    "df_fruits.to_csv(\"11emart_flyer_fruits_filtered.csv\", index=False, encoding=\"utf-8-sig\")\n",
    "print(\"✅ 과일 상품만 필터링 완료!\")\n",
    "df_fruits.head()\n"
   ]
  }
 ],
 "metadata": {
  "kernelspec": {
   "display_name": "Python 3",
   "language": "python",
   "name": "python3"
  },
  "language_info": {
   "codemirror_mode": {
    "name": "ipython",
    "version": 3
   },
   "file_extension": ".py",
   "mimetype": "text/x-python",
   "name": "python",
   "nbconvert_exporter": "python",
   "pygments_lexer": "ipython3",
   "version": "3.11.13"
  }
 },
 "nbformat": 4,
 "nbformat_minor": 5
}
