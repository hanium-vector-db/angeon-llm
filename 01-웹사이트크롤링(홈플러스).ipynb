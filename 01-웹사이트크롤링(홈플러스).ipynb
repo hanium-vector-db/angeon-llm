{
 "cells": [
  {
   "cell_type": "markdown",
   "id": "8b2b1986",
   "metadata": {},
   "source": [
    "# 홈플러스 상품 데이터 크롤링 (2024년 5월 기준)\n",
    "홈플러스 모바일몰(https://mfront.homeplus.co.kr/leaflet?gnbNo=207&homeType=MART)에서 Selenium을 활용해 신선식품 데이터를 크롤링합니다. 사이트 구조가 자주 바뀌므로, 크롤링이 안 될 경우 개발자도구로 실제 상품 블록의 CSS 선택자를 반드시 확인해야 합니다."
   ]
  },
  {
   "cell_type": "markdown",
   "id": "39f2e48f",
   "metadata": {},
   "source": [
    "크롬드라이버는 https://googlechromelabs.github.io/chrome-for-testing/#stable 에서 다운로드했습니다."
   ]
  },
  {
   "cell_type": "code",
   "execution_count": 10,
   "id": "7c8f7c76",
   "metadata": {},
   "outputs": [],
   "source": [
    "from selenium import webdriver\n",
    "from selenium.webdriver.chrome.service import Service\n",
    "from selenium.webdriver.common.by import By\n",
    "from selenium.webdriver.chrome.options import Options\n",
    "import pandas as pd\n",
    "import time"
   ]
  },
  {
   "cell_type": "code",
   "execution_count": 17,
   "id": "84dbd133",
   "metadata": {},
   "outputs": [],
   "source": [
    "def get_homeplus_items_detail():\n",
    "    CHROME_DRIVER_PATH = r\"D:\\github\\angeon-llm\\chromedriver-win64\\chromedriver.exe\"\n",
    "    options = Options()\n",
    "    options.add_argument(\"--headless\")\n",
    "    options.add_argument(\"--no-sandbox\")\n",
    "    options.add_argument(\"--disable-dev-shm-usage\")\n",
    "    options.add_argument(\n",
    "        \"user-agent=Mozilla/5.0 (Linux; Android 10; SM-G975F) AppleWebKit/537.36 (KHTML, like Gecko) Chrome/124.0.0.0 Mobile Safari/537.36\"\n",
    "    )\n",
    "\n",
    "    driver = webdriver.Chrome(service=Service(CHROME_DRIVER_PATH), options=options)\n",
    "    url = \"https://mfront.homeplus.co.kr/leaflet?gnbNo=207&homeType=MART\"\n",
    "    driver.get(url)\n",
    "    time.sleep(5)\n",
    "\n",
    "    # 스크롤 자동화 (더보기 버튼이 있으면 클릭, 없으면 스크롤)\n",
    "    SCROLL_PAUSE_SEC = 1.5\n",
    "    for _ in range(15):\n",
    "        driver.execute_script(\"window.scrollTo(0, document.body.scrollHeight);\")\n",
    "        time.sleep(SCROLL_PAUSE_SEC)\n",
    "        # 더보기 버튼이 있으면 클릭\n",
    "        try:\n",
    "            more_btn = driver.find_element(By.CSS_SELECTOR, 'button.moreBtn, button.css-1o6z5ng')\n",
    "            if more_btn.is_displayed():\n",
    "                more_btn.click()\n",
    "                time.sleep(1)\n",
    "        except:\n",
    "            pass\n",
    "\n",
    "    # 실제 상품 블록의 CSS 선택자 확인 (2024년 5월 기준)\n",
    "    product_blocks = driver.find_elements(By.CSS_SELECTOR, \"div.unitItemWrap.typeCard div.unitItem.typeC4\")\n",
    "    print(f\"총 상품 수: {len(product_blocks)}개\")\n",
    "\n",
    "    items = []\n",
    "    for block in product_blocks:\n",
    "        try:\n",
    "            name = block.find_element(By.CSS_SELECTOR, \"p.css-xktqki\").text.strip()\n",
    "            price = block.find_element(By.CSS_SELECTOR, \"strong.priceValue\").text.strip()\n",
    "            link_el = block.find_element(By.CSS_SELECTOR, \"a.productTitle\")\n",
    "            relative_url = link_el.get_attribute(\"href\")\n",
    "            full_url = f\"https://m.homeplus.co.kr{relative_url}\" if relative_url and relative_url.startswith(\"/\") else relative_url\n",
    "            img_url = block.find_element(By.CSS_SELECTOR, \"img\").get_attribute(\"src\")\n",
    "            price_qty = block.find_element(By.CSS_SELECTOR, \".priceQty\").text.strip() if block.find_elements(By.CSS_SELECTOR, \".priceQty\") else \"\"\n",
    "            recom_comment = block.find_element(By.CSS_SELECTOR, \".recomComment\").text.strip() if block.find_elements(By.CSS_SELECTOR, \".recomComment\") else \"\"\n",
    "            score = block.find_element(By.CSS_SELECTOR, \".score\").text.strip() if block.find_elements(By.CSS_SELECTOR, \".score\") else \"\"\n",
    "            review_cnt = block.find_element(By.CSS_SELECTOR, \".reviewCnt\").text.strip() if block.find_elements(By.CSS_SELECTOR, \".reviewCnt\") else \"\"\n",
    "            sale_cnt = block.find_element(By.CSS_SELECTOR, \".saleCount\").text.strip() if block.find_elements(By.CSS_SELECTOR, \".saleCount\") else \"\"\n",
    "            discount_rate = block.find_element(By.CSS_SELECTOR, \".discountRate\").text.strip() if block.find_elements(By.CSS_SELECTOR, \".discountRate\") else \"\"\n",
    "            org_price = \"\"\n",
    "            if block.find_elements(By.CSS_SELECTOR, \".orgPrice .priceValue\"):\n",
    "                org_price = block.find_element(By.CSS_SELECTOR, \".orgPrice .priceValue\").text.strip()\n",
    "\n",
    "            items.append({\n",
    "                \"상품명\": name,\n",
    "                \"가격\": price,\n",
    "                \"원가\": org_price,\n",
    "                \"할인율\": discount_rate,\n",
    "                \"링크\": full_url,\n",
    "                \"이미지\": img_url,\n",
    "                \"100g/1개당 가격\": price_qty,\n",
    "                \"추천코멘트\": recom_comment,\n",
    "                \"평점\": score,\n",
    "                \"리뷰수\": review_cnt,\n",
    "                \"판매량\": sale_cnt\n",
    "            })\n",
    "        except Exception as e:\n",
    "            print(f\"상품 처리 오류: {e}\")\n",
    "            continue\n",
    "\n",
    "    driver.quit()\n",
    "    return pd.DataFrame(items)"
   ]
  },
  {
   "cell_type": "code",
   "execution_count": 18,
   "id": "ddb2faf7",
   "metadata": {},
   "outputs": [
    {
     "name": "stdout",
     "output_type": "stream",
     "text": [
      "총 상품 수: 0개\n"
     ]
    },
    {
     "data": {
      "text/html": [
       "<div>\n",
       "<style scoped>\n",
       "    .dataframe tbody tr th:only-of-type {\n",
       "        vertical-align: middle;\n",
       "    }\n",
       "\n",
       "    .dataframe tbody tr th {\n",
       "        vertical-align: top;\n",
       "    }\n",
       "\n",
       "    .dataframe thead th {\n",
       "        text-align: right;\n",
       "    }\n",
       "</style>\n",
       "<table border=\"1\" class=\"dataframe\">\n",
       "  <thead>\n",
       "    <tr style=\"text-align: right;\">\n",
       "      <th></th>\n",
       "    </tr>\n",
       "  </thead>\n",
       "  <tbody>\n",
       "  </tbody>\n",
       "</table>\n",
       "</div>"
      ],
      "text/plain": [
       "Empty DataFrame\n",
       "Columns: []\n",
       "Index: []"
      ]
     },
     "execution_count": 18,
     "metadata": {},
     "output_type": "execute_result"
    }
   ],
   "source": [
    "df_homeplus = get_homeplus_items_detail()\n",
    "df_homeplus.to_csv(\"homeplus_items_detail.csv\", index=False, encoding=\"utf-8-sig\")\n",
    "df_homeplus.head()"
   ]
  }
 ],
 "metadata": {
  "kernelspec": {
   "display_name": "angeon-llm",
   "language": "python",
   "name": "python3"
  },
  "language_info": {
   "codemirror_mode": {
    "name": "ipython",
    "version": 3
   },
   "file_extension": ".py",
   "mimetype": "text/x-python",
   "name": "python",
   "nbconvert_exporter": "python",
   "pygments_lexer": "ipython3",
   "version": "3.11.11"
  }
 },
 "nbformat": 4,
 "nbformat_minor": 5
}
